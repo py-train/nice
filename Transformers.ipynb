{
 "cells": [
  {
   "cell_type": "code",
   "execution_count": 1,
   "id": "3974acbb-f565-4dc6-bbfa-0ce7e3318a9c",
   "metadata": {},
   "outputs": [],
   "source": [
    "from torch import nn"
   ]
  },
  {
   "cell_type": "code",
   "execution_count": 2,
   "id": "a0ba88a8-caa4-4357-852b-02d27027f928",
   "metadata": {},
   "outputs": [
    {
     "name": "stderr",
     "output_type": "stream",
     "text": [
      "/opt/anaconda3/lib/python3.13/site-packages/torch/nn/modules/transformer.py:379: UserWarning: enable_nested_tensor is True, but self.use_nested_tensor is False because encoder_layer.self_attn.batch_first was not True(use batch_first for better inference performance)\n",
      "  warnings.warn(\n"
     ]
    }
   ],
   "source": [
    "tr = nn.Transformer(\n",
    "    d_model=512,\n",
    "    num_encoder_layers=5,\n",
    "    num_decoder_layers=5,\n",
    "    nhead = 4\n",
    ")"
   ]
  },
  {
   "cell_type": "code",
   "execution_count": 3,
   "id": "4302ec2a-d966-4113-97b2-8156e248ef22",
   "metadata": {},
   "outputs": [
    {
     "name": "stdout",
     "output_type": "stream",
     "text": [
      "Transformer(\n",
      "  (encoder): TransformerEncoder(\n",
      "    (layers): ModuleList(\n",
      "      (0-4): 5 x TransformerEncoderLayer(\n",
      "        (self_attn): MultiheadAttention(\n",
      "          (out_proj): NonDynamicallyQuantizableLinear(in_features=512, out_features=512, bias=True)\n",
      "        )\n",
      "        (linear1): Linear(in_features=512, out_features=2048, bias=True)\n",
      "        (dropout): Dropout(p=0.1, inplace=False)\n",
      "        (linear2): Linear(in_features=2048, out_features=512, bias=True)\n",
      "        (norm1): LayerNorm((512,), eps=1e-05, elementwise_affine=True)\n",
      "        (norm2): LayerNorm((512,), eps=1e-05, elementwise_affine=True)\n",
      "        (dropout1): Dropout(p=0.1, inplace=False)\n",
      "        (dropout2): Dropout(p=0.1, inplace=False)\n",
      "      )\n",
      "    )\n",
      "    (norm): LayerNorm((512,), eps=1e-05, elementwise_affine=True)\n",
      "  )\n",
      "  (decoder): TransformerDecoder(\n",
      "    (layers): ModuleList(\n",
      "      (0-4): 5 x TransformerDecoderLayer(\n",
      "        (self_attn): MultiheadAttention(\n",
      "          (out_proj): NonDynamicallyQuantizableLinear(in_features=512, out_features=512, bias=True)\n",
      "        )\n",
      "        (multihead_attn): MultiheadAttention(\n",
      "          (out_proj): NonDynamicallyQuantizableLinear(in_features=512, out_features=512, bias=True)\n",
      "        )\n",
      "        (linear1): Linear(in_features=512, out_features=2048, bias=True)\n",
      "        (dropout): Dropout(p=0.1, inplace=False)\n",
      "        (linear2): Linear(in_features=2048, out_features=512, bias=True)\n",
      "        (norm1): LayerNorm((512,), eps=1e-05, elementwise_affine=True)\n",
      "        (norm2): LayerNorm((512,), eps=1e-05, elementwise_affine=True)\n",
      "        (norm3): LayerNorm((512,), eps=1e-05, elementwise_affine=True)\n",
      "        (dropout1): Dropout(p=0.1, inplace=False)\n",
      "        (dropout2): Dropout(p=0.1, inplace=False)\n",
      "        (dropout3): Dropout(p=0.1, inplace=False)\n",
      "      )\n",
      "    )\n",
      "    (norm): LayerNorm((512,), eps=1e-05, elementwise_affine=True)\n",
      "  )\n",
      ")\n"
     ]
    }
   ],
   "source": [
    "print(tr)"
   ]
  },
  {
   "cell_type": "code",
   "execution_count": 29,
   "id": "5363dd3a-109f-4961-bc73-75caef3a4802",
   "metadata": {},
   "outputs": [
    {
     "name": "stdout",
     "output_type": "stream",
     "text": [
      "Attention weights for 'orange':\n",
      "orange    : 0.990\n",
      "is        : 0.001\n",
      "my        : 0.002\n",
      "favourite : 0.001\n",
      "fruit     : 0.006\n"
     ]
    }
   ],
   "source": [
    "# Requires: torch 2.6+, numpy 2.3.3\n",
    "import torch\n",
    "import torch.nn.functional as F\n",
    "\n",
    "# Toy vocabulary and embeddings\n",
    "tokens = [\"orange\", \"is\", \"my\", \"favourite\", \"fruit\"]\n",
    "embed_dim = 4  # Small, illustrative dimension\n",
    "torch.manual_seed(42)\n",
    "embeddings = torch.randn(len(tokens), embed_dim)\n",
    "\n",
    "# Simplest self-attention (\"orange\" attends to every word)\n",
    "def simple_attention(Q, K, V):\n",
    "    attn_scores = (Q @ K.T) / (K.shape[-1] ** 0.5)\n",
    "    attn_weights = F.softmax(attn_scores, dim=-1)\n",
    "    out = attn_weights @ V\n",
    "    return attn_weights, out\n",
    "\n",
    "Q = K = V = embeddings\n",
    "attn_weights, attn_out = simple_attention(Q, K, V)\n",
    "\n",
    "print(\"Attention weights for 'orange':\")\n",
    "for idx, token in enumerate(tokens):\n",
    "    print(f\"{token:10s}: {attn_weights[0, idx]:.3f}\")\n",
    "\n",
    "# Shows how much \"orange\" (the first word) pays attention to each token (including itself).\n"
   ]
  },
  {
   "cell_type": "code",
   "execution_count": 1,
   "id": "84733915",
   "metadata": {},
   "outputs": [
    {
     "name": "stdout",
     "output_type": "stream",
     "text": [
      "LogisticRegression test accuracy: 0.875\n"
     ]
    }
   ],
   "source": [
    "# Requires: scikit-learn 1.7.2, torch 2.6+, numpy 2.3.3\n",
    "import numpy as np\n",
    "from sklearn.datasets import make_moons\n",
    "from sklearn.model_selection import train_test_split\n",
    "from sklearn.linear_model import LogisticRegression\n",
    "\n",
    "# Generate a toy \"moons\" dataset (nonlinear for illustration)\n",
    "X, y = make_moons(n_samples=1000, noise=0.2)\n",
    "X_train, X_test, y_train, y_test = train_test_split(X, y, test_size=0.2)\n",
    "\n",
    "# 1. Classical ML: Logistic Regression\n",
    "clf = LogisticRegression()\n",
    "clf.fit(X_train, y_train)\n",
    "print(f\"LogisticRegression test accuracy: {clf.score(X_test, y_test):.3f}\")"
   ]
  },
  {
   "cell_type": "code",
   "execution_count": 2,
   "id": "b807510d",
   "metadata": {},
   "outputs": [
    {
     "name": "stderr",
     "output_type": "stream",
     "text": [
      "Fontconfig warning: ignoring UTF-8: not a valid region tag\n",
      "Matplotlib is building the font cache; this may take a moment.\n"
     ]
    }
   ],
   "source": [
    "import seaborn as sns\n",
    "\n",
    "sns.scatterplot(x=X[:,0], y=X[:,1], hue=y)"
   ]
  },
  {
   "cell_type": "code",
   "execution_count": 7,
   "id": "03afa4b9",
   "metadata": {},
   "outputs": [
    {
     "data": {
      "text/plain": [
       "<Axes: >"
      ]
     },
     "execution_count": 7,
     "metadata": {},
     "output_type": "execute_result"
    },
    {
     "data": {
      "image/png": "[encoded data removed]",
      "text/plain": [
       "<Figure size 640x480 with 1 Axes>"
      ]
     },
     "metadata": {},
     "output_type": "display_data"
    }
   ],
   "source": [
    "sns.scatterplot(x=X[:,0], y=X[:,1], hue=clf.predict(X))"
   ]
  },
  {
   "cell_type": "code",
   "execution_count": null,
   "id": "97ecd2de",
   "metadata": {},
   "outputs": [],
   "source": [
    "import torch\n",
    "import torch.nn as nn\n",
    "\n",
    "# 2. Minimal Neural Net (PyTorch)\n",
    "class TinyNN(nn.Module):\n",
    "    def __init__(self):\n",
    "        super().__init__()\n",
    "        self.net = nn.Sequential(\n",
    "            nn.Linear(2, 16), nn.ReLU(),\n",
    "            nn.Linear(16, 2)\n",
    "        )\n",
    "    def forward(self, x):\n",
    "        return self.net(x)"
   ]
  },
  {
   "cell_type": "code",
   "execution_count": 26,
   "id": "cfdb4874-9b11-4a2d-95ee-6d40de27bab0",
   "metadata": {},
   "outputs": [
    {
     "name": "stdout",
     "output_type": "stream",
     "text": [
      "LogisticRegression test accuracy: 0.865\n",
      "NeuralNet test accuracy: 0.980\n"
     ]
    }
   ],
   "source": [
    "torch.manual_seed(0)\n",
    "model = TinyNN()\n",
    "loss_fn = nn.CrossEntropyLoss()\n",
    "optimizer = torch.optim.Adam(model.parameters(), lr=0.05)\n",
    "\n",
    "X_train_t = torch.tensor(X_train, dtype=torch.float32)\n",
    "y_train_t = torch.tensor(y_train, dtype=torch.long)\n",
    "X_test_t = torch.tensor(X_test, dtype=torch.float32)\n",
    "y_test_t = torch.tensor(y_test, dtype=torch.long)\n",
    "\n",
    "for epoch in range(160):\n",
    "    optimizer.zero_grad()\n",
    "    out = model(X_train_t)\n",
    "    loss = loss_fn(out, y_train_t)\n",
    "    loss.backward()\n",
    "    optimizer.step()\n",
    "print(f\"NeuralNet test accuracy: {(model(X_test_t).argmax(1) == y_test_t).float().mean().item():.3f}\")\n",
    "\n",
    "# Both models predict classes, but the neural network can fit more complex, nonlinear boundaries."
   ]
  },
  {
   "cell_type": "code",
   "execution_count": 20,
   "id": "78730950-e81f-4076-ab73-53042921024c",
   "metadata": {},
   "outputs": [],
   "source": [
    "# 6. Tiny LSTM for remembering/forgetting (PyTorch)\n",
    "import torch\n",
    "import torch.nn as nn"
   ]
  },
  {
   "cell_type": "code",
   "execution_count": 8,
   "id": "dcfe142c-f7f6-475f-bad5-b0a1590c641a",
   "metadata": {},
   "outputs": [
    {
     "data": {
      "text/plain": [
       "tensor([[[1.],\n",
       "         [2.],\n",
       "         [3.]]])"
      ]
     },
     "execution_count": 8,
     "metadata": {},
     "output_type": "execute_result"
    }
   ],
   "source": [
    "seq = torch.tensor([[1.0, 2.0, 3.0]]).unsqueeze(-1)\n",
    "seq"
   ]
  },
  {
   "cell_type": "code",
   "execution_count": 9,
   "id": "8c8eec02-cdce-4b1c-b659-df780eaee587",
   "metadata": {},
   "outputs": [
    {
     "data": {
      "text/plain": [
       "LSTM(1, 2, batch_first=True)"
      ]
     },
     "execution_count": 9,
     "metadata": {},
     "output_type": "execute_result"
    }
   ],
   "source": [
    "lstm = nn.LSTM(input_size=1, hidden_size=2, batch_first=True)\n",
    "lstm"
   ]
  },
  {
   "cell_type": "code",
   "execution_count": 10,
   "id": "8f29b0b7-97d8-4b94-8f7d-666c39e490ae",
   "metadata": {},
   "outputs": [],
   "source": [
    "output, (h_n, c_n) = lstm(seq)"
   ]
  },
  {
   "cell_type": "code",
   "execution_count": 11,
   "id": "bd6dd84c-f669-4920-9b86-0ce8b86d3863",
   "metadata": {},
   "outputs": [
    {
     "name": "stdout",
     "output_type": "stream",
     "text": [
      "LSTM output: tensor([[[-0.0955,  0.0199],\n",
      "         [-0.2072,  0.0041],\n",
      "         [-0.3299, -0.0049]]], grad_fn=<TransposeBackward0>)\n"
     ]
    }
   ],
   "source": [
    "print(\"LSTM output:\", output)"
   ]
  },
  {
   "cell_type": "code",
   "execution_count": 13,
   "id": "87e7874d-dd38-4c7e-b710-55c121e8dafb",
   "metadata": {},
   "outputs": [
    {
     "data": {
      "text/plain": [
       "tensor([[[-0.5353, -0.0124]]], grad_fn=<StackBackward0>)"
      ]
     },
     "execution_count": 13,
     "metadata": {},
     "output_type": "execute_result"
    }
   ],
   "source": [
    "c_n"
   ]
  },
  {
   "cell_type": "code",
   "execution_count": 39,
   "id": "98d03f8b-030c-423d-b8e9-36dfba6d41b1",
   "metadata": {},
   "outputs": [
    {
     "data": {
      "text/plain": [
       "tensor([[[0.8399],\n",
       "         [0.1374],\n",
       "         [0.2331],\n",
       "         [0.9578]]])"
      ]
     },
     "execution_count": 39,
     "metadata": {},
     "output_type": "execute_result"
    }
   ],
   "source": [
    "torch.rand((1,4)).unsqueeze(-1)"
   ]
  },
  {
   "cell_type": "code",
   "execution_count": 40,
   "id": "9b1c6b12-0c2b-48b7-a265-328b4189bfc1",
   "metadata": {},
   "outputs": [
    {
     "name": "stdout",
     "output_type": "stream",
     "text": [
      "Encoder output: torch.Size([1, 4, 8]) Decoder output: torch.Size([1, 4, 8])\n"
     ]
    }
   ],
   "source": [
    "# 9. Toy transformer encoder & decoder block (PyTorch)\n",
    "import torch\n",
    "import torch.nn as nn\n",
    "\n",
    "class MiniEncoderBlock(nn.Module):\n",
    "    def __init__(self, d_model=8):\n",
    "        super().__init__()\n",
    "        self.self_attn = nn.MultiheadAttention(d_model, num_heads=2, batch_first=True)\n",
    "        self.ffn = nn.Sequential(nn.Linear(d_model, d_model), nn.ReLU(), nn.Linear(d_model, d_model))\n",
    "    def forward(self, x):\n",
    "        attn_out, _ = self.self_attn(x, x, x)\n",
    "        return self.ffn(attn_out)\n",
    "\n",
    "class MiniDecoderBlock(nn.Module):\n",
    "    def __init__(self, d_model=8):\n",
    "        super().__init__()\n",
    "        self.self_attn = nn.MultiheadAttention(d_model, 2, batch_first=True)\n",
    "        self.cross_attn = nn.MultiheadAttention(d_model, 2, batch_first=True)\n",
    "        self.ffn = nn.Sequential(nn.Linear(d_model, d_model), nn.ReLU(), nn.Linear(d_model, d_model))\n",
    "    def forward(self, x, enc_out):\n",
    "        x_attn, _ = self.self_attn(x, x, x)\n",
    "        x_ca, _ = self.cross_attn(x_attn, enc_out, enc_out)\n",
    "        return self.ffn(x_ca)\n",
    "\n",
    "dummy = torch.rand(1, 4, 8)  # (batch, seq_len, d_model)\n",
    "enc = MiniEncoderBlock()\n",
    "dec = MiniDecoderBlock()\n",
    "encoded = enc(dummy)\n",
    "decoded = dec(dummy, encoded)\n",
    "print(\"Encoder output:\", encoded.shape, \"Decoder output:\", decoded.shape)\n"
   ]
  },
  {
   "cell_type": "code",
   "execution_count": 41,
   "id": "9c3cd8e0-a3e9-48d9-bdf6-23d7d97b3351",
   "metadata": {},
   "outputs": [
    {
     "data": {
      "text/plain": [
       "tensor([[[0.3313, 0.3227, 0.0162, 0.2137, 0.6249, 0.4340, 0.1371, 0.5117],\n",
       "         [0.1585, 0.0758, 0.2247, 0.0624, 0.1816, 0.9998, 0.5944, 0.6541],\n",
       "         [0.0337, 0.1716, 0.3336, 0.5782, 0.0600, 0.2846, 0.2007, 0.5014],\n",
       "         [0.3139, 0.4654, 0.1612, 0.1568, 0.2083, 0.3289, 0.1054, 0.9192]]])"
      ]
     },
     "execution_count": 41,
     "metadata": {},
     "output_type": "execute_result"
    }
   ],
   "source": [
    "dummy"
   ]
  },
  {
   "cell_type": "code",
   "execution_count": 42,
   "id": "9e593de1-d20d-45fe-9bc3-05f6f0ad88dd",
   "metadata": {},
   "outputs": [
    {
     "data": {
      "text/plain": [
       "tensor([[[ 0.1018,  0.0570, -0.1755,  0.1498,  0.5294,  0.3102, -0.1815,\n",
       "          -0.2464],\n",
       "         [ 0.1016,  0.0569, -0.1756,  0.1499,  0.5294,  0.3102, -0.1816,\n",
       "          -0.2464],\n",
       "         [ 0.1017,  0.0569, -0.1756,  0.1499,  0.5293,  0.3102, -0.1815,\n",
       "          -0.2464],\n",
       "         [ 0.1014,  0.0567, -0.1758,  0.1500,  0.5293,  0.3099, -0.1816,\n",
       "          -0.2464]]], grad_fn=<ViewBackward0>)"
      ]
     },
     "execution_count": 42,
     "metadata": {},
     "output_type": "execute_result"
    }
   ],
   "source": [
    "encoded"
   ]
  },
  {
   "cell_type": "code",
   "execution_count": 43,
   "id": "e9448c8c-fbb1-4670-b9df-b7e900c92fc5",
   "metadata": {},
   "outputs": [
    {
     "data": {
      "text/plain": [
       "tensor([[[-0.1634, -0.3879,  0.2967, -0.0508, -0.1687,  0.0637, -0.1025,\n",
       "           0.0875],\n",
       "         [-0.1634, -0.3879,  0.2967, -0.0508, -0.1687,  0.0637, -0.1025,\n",
       "           0.0875],\n",
       "         [-0.1634, -0.3879,  0.2967, -0.0508, -0.1687,  0.0637, -0.1025,\n",
       "           0.0875],\n",
       "         [-0.1634, -0.3879,  0.2967, -0.0508, -0.1687,  0.0637, -0.1025,\n",
       "           0.0875]]], grad_fn=<ViewBackward0>)"
      ]
     },
     "execution_count": 43,
     "metadata": {},
     "output_type": "execute_result"
    }
   ],
   "source": [
    "decoded"
   ]
  },
  {
   "cell_type": "code",
   "execution_count": 1,
   "id": "40365ee4-ffa8-4250-b5af-8690969b8199",
   "metadata": {},
   "outputs": [],
   "source": [
    "from langchain_openai import ChatOpenAI, OpenAIEmbeddings\n",
    "from langchain_community.vectorstores import Chroma\n",
    "from langchain_text_splitters import CharacterTextSplitter, RecursiveCharacterTextSplitter\n",
    "from langchain_community.document_loaders import PyPDFLoader\n",
    "from langchain.chains import RetrievalQA\n",
    "# from langchain.chains.retrieval import \n",
    "# from langchain_core.language_models.llms "
   ]
  },
  {
   "cell_type": "code",
   "execution_count": null,
   "id": "fa94ad20-7129-4eea-b88a-6c7aa23b6bbb",
   "metadata": {},
   "outputs": [],
   "source": []
  },
  {
   "cell_type": "code",
   "execution_count": 171,
   "id": "2e3355b3-8046-4883-8b79-7efb40a1bf00",
   "metadata": {},
   "outputs": [
    {
     "data": {
      "text/plain": [
       "AIMessage(content=\"I'm sorry, but I can't provide real-time information including today's date. You might want to check your device or calendar for the current date.\", additional_kwargs={'refusal': None}, response_metadata={'token_usage': {'completion_tokens': 28, 'prompt_tokens': 12, 'total_tokens': 40, 'completion_tokens_details': {'accepted_prediction_tokens': 0, 'audio_tokens': 0, 'reasoning_tokens': 0, 'rejected_prediction_tokens': 0}, 'prompt_tokens_details': {'audio_tokens': 0, 'cached_tokens': 0}}, 'model_name': 'gpt-4o-2024-08-06', 'system_fingerprint': 'fp_f33640a400', 'id': 'chatcmpl-CIL8uK6ZD7rxuaEPrMPXATnSK7Zms', 'service_tier': 'default', 'finish_reason': 'stop', 'logprobs': None}, id='run--c638c52d-9ac8-491b-8d02-fa3f813ba1f2-0', usage_metadata={'input_tokens': 12, 'output_tokens': 28, 'total_tokens': 40, 'input_token_details': {'audio': 0, 'cache_read': 0}, 'output_token_details': {'audio': 0, 'reasoning': 0}})"
      ]
     },
     "execution_count": 171,
     "metadata": {},
     "output_type": "execute_result"
    }
   ],
   "source": [
    "from langchain_openai import ChatOpenAI\n",
    "\n",
    "llm = ChatOpenAI(model=\"gpt-4o\")\n",
    "llm.invoke(\"What's the current date?\")"
   ]
  },
  {
   "cell_type": "code",
   "execution_count": 177,
   "id": "f507376d-2ae8-40a5-a715-f9b20a3fef03",
   "metadata": {},
   "outputs": [
    {
     "name": "stdin",
     "output_type": "stream",
     "text": [
      "Say hello to openai! (Just press enter to say \"Hello, how are you?\") :  What date did your training end?\n"
     ]
    },
    {
     "name": "stdout",
     "output_type": "stream",
     "text": [
      "My training data includes information up until October 2021. If you have questions or need information based on that timeframe, feel free to ask!\n"
     ]
    }
   ],
   "source": [
    "import openai\n",
    "\n",
    "# # Set your OpenAI API key\n",
    "# # openai.api_key = \"your-api-key\"\n",
    "\n",
    "# # Call the OpenAI chat completion API with a single prompt, no history\n",
    "# response = openai.ChatCompletion.create(\n",
    "#     model=\"gpt-4o-mini\",  # you can use gpt-4, gpt-3.5-turbo, or other available model\n",
    "#     messages=[\n",
    "#         {\"role\": \"user\", \"content\": \"Hello, how are you?\"}\n",
    "#     ]\n",
    "# )\n",
    "\n",
    "# # Print the assistant's reply\n",
    "# print(response.choices[0].message.content)\n",
    "\n",
    "\n",
    "from openai import OpenAI\n",
    "\n",
    "\n",
    "def chat_with_openai(prompt: str = \"\"):\n",
    "\n",
    "    prompt = prompt or \"Hello, how are you?\"\n",
    "    # Create OpenAI client instance with your API key\n",
    "    # client = OpenAI(api_key=\"your-api-key\")\n",
    "    client = OpenAI()\n",
    "    \n",
    "    # Single prompt without history\n",
    "    response = client.chat.completions.create(\n",
    "        model=\"gpt-4o-mini\",  # or \"gpt-3.5-turbo\" etc.\n",
    "        messages=[\n",
    "            {\"role\": \"user\", \"content\": prompt}\n",
    "        ]\n",
    "    )\n",
    "    \n",
    "    # Print assistant response\n",
    "    print(response.choices[0].message.content)\n",
    "\n",
    "prompt = input('Say hello to openai! (Just press enter to say \"Hello, how are you?\") : ')\n",
    "chat_with_openai(prompt)"
   ]
  },
  {
   "cell_type": "code",
   "execution_count": 2,
   "id": "0b462bca-3bb1-4429-bff9-11e922f951aa",
   "metadata": {},
   "outputs": [],
   "source": [
    "# 1. Load and chunk documents\n",
    "loader = PyPDFLoader('data/iess403.pdf')\n",
    "docs = loader.load()\n",
    "splitter = CharacterTextSplitter(chunk_size=1000, chunk_overlap=200)\n",
    "chunks = splitter.split_documents(docs)"
   ]
  },
  {
   "cell_type": "code",
   "execution_count": 13,
   "id": "b806f9d6-0cef-4c07-ba34-9e8eace27d3e",
   "metadata": {},
   "outputs": [
    {
     "data": {
      "text/plain": [
       "3325"
      ]
     },
     "execution_count": 13,
     "metadata": {},
     "output_type": "execute_result"
    }
   ],
   "source": [
    "len(chunks[1].page_content)"
   ]
  },
  {
   "cell_type": "code",
   "execution_count": null,
   "id": "02ec8147-9a71-465d-aa07-708ceaae8ccc",
   "metadata": {},
   "outputs": [],
   "source": [
    "# 2. Create embeddings and vector store\n",
    "embedder = OpenAIEmbeddings()\n",
    "vector_store = Chroma.from_documents(chunks, embedder)\n",
    "\n",
    "# 3. Expose retriever interface\n",
    "retriever = vector_store.as_retriever()\n",
    "\n",
    "# 4. Build RetrievalQA chain\n",
    "llm = ChatOpenAI(model=\"gpt-4o\")  # or \"gpt-3.5-turbo\", etc.\n",
    "qa_chain = RetrievalQA.from_chain_type(llm=llm, retriever=retriever, return_source_documents=True)\n",
    "\n",
    "# 5. Ask a question\n",
    "while True:\n",
    "    query = \"Summarize the assembly election story from Haryana.\"\n",
    "    query = input('Ask a question: ')\n",
    "    answer = qa_chain.invoke({\"query\": query})\n",
    "    print(\"Question:\\n\", answer['query'])\n",
    "    print(\"Answer:\\n\", answer['result'])"
   ]
  },
  {
   "cell_type": "code",
   "execution_count": 178,
   "id": "9d66483b-d6a0-46f8-9c80-b640ff0d8372",
   "metadata": {},
   "outputs": [],
   "source": [
    "# from langchain.prompts import \n",
    "# from langchain_core.chat_history import InMemoryChatMessageHistory"
   ]
  },
  {
   "cell_type": "code",
   "execution_count": 14,
   "id": "67d13901-77b9-4778-aa39-ee3cccdae04d",
   "metadata": {},
   "outputs": [],
   "source": [
    "from sentence_transformers import SentenceTransformer\n",
    "import chromadb"
   ]
  },
  {
   "cell_type": "code",
   "execution_count": 16,
   "id": "6bbe020f-0bf3-4ffe-91f8-4060848d46e0",
   "metadata": {},
   "outputs": [
    {
     "data": {
      "text/plain": [
       "SentenceTransformer(\n",
       "  (0): Transformer({'max_seq_length': 256, 'do_lower_case': False}) with Transformer model: BertModel \n",
       "  (1): Pooling({'word_embedding_dimension': 384, 'pooling_mode_cls_token': False, 'pooling_mode_mean_tokens': True, 'pooling_mode_max_tokens': False, 'pooling_mode_mean_sqrt_len_tokens': False, 'pooling_mode_weightedmean_tokens': False, 'pooling_mode_lasttoken': False, 'include_prompt': True})\n",
       "  (2): Normalize()\n",
       ")"
      ]
     },
     "execution_count": 16,
     "metadata": {},
     "output_type": "execute_result"
    }
   ],
   "source": [
    "model = SentenceTransformer('all-MiniLM-L6-v2')\n",
    "model"
   ]
  },
  {
   "cell_type": "code",
   "execution_count": null,
   "id": "4effc811-aa38-4399-b87c-1ac4d33fee59",
   "metadata": {},
   "outputs": [],
   "source": [
    "documents = [\n",
    "    \"The cat sits on the mat.\",\n",
    "    \"A dog is playing in the garden.\",\n",
    "    \"The sun is bright today.\",\n",
    "    \"I love reading books on science and technology.\",\n",
    "    \"Artificial intelligence is transforming many industries.\"\n",
    "]\n",
    "\n",
    "# Generate embeddings for documents\n",
    "embeddings = model.encode(documents)"
   ]
  },
  {
   "cell_type": "code",
   "execution_count": 17,
   "id": "1a493535-7855-415b-ae21-854190603c90",
   "metadata": {},
   "outputs": [
    {
     "data": {
      "text/plain": [
       "array([[ 0.13417713, -0.0329003 , -0.02480371, ...,  0.05106999,\n",
       "         0.02030208,  0.06012187],\n",
       "       [ 0.01731835, -0.07788233,  0.03794943, ...,  0.03329793,\n",
       "         0.03157172,  0.00821149],\n",
       "       [ 0.04563438,  0.11852303,  0.09161761, ..., -0.00939092,\n",
       "        -0.06263206,  0.05781694],\n",
       "       [-0.0097589 , -0.046904  ,  0.04088464, ..., -0.03019617,\n",
       "        -0.00630172, -0.03024092],\n",
       "       [ 0.05733141, -0.03839206,  0.05853872, ..., -0.07937905,\n",
       "         0.0630242 , -0.02145816]], dtype=float32)"
      ]
     },
     "execution_count": 17,
     "metadata": {},
     "output_type": "execute_result"
    }
   ],
   "source": [
    "documents = [\n",
    "    \"The cat sits on the mat.\",\n",
    "    \"A dog is playing in the garden.\",\n",
    "    \"The sun is bright today.\",\n",
    "    \"I love reading books on science and technology.\",\n",
    "    \"Artificial intelligence is transforming many industries.\"\n",
    "]\n",
    "\n",
    "# Generate embeddings for documents\n",
    "embeddings = model.encode(documents)\n",
    "\n",
    "embeddings"
   ]
  },
  {
   "cell_type": "code",
   "execution_count": 20,
   "id": "e1fad7fc-c4a8-4842-80f3-99fa773e3b41",
   "metadata": {},
   "outputs": [
    {
     "data": {
      "text/plain": [
       "5"
      ]
     },
     "execution_count": 20,
     "metadata": {},
     "output_type": "execute_result"
    }
   ],
   "source": [
    "# len(embeddings)\n",
    "len(embeddings[0])"
   ]
  },
  {
   "cell_type": "code",
   "execution_count": 39,
   "id": "67ec2412-2669-4866-850a-9fdf477570a9",
   "metadata": {},
   "outputs": [
    {
     "name": "stdout",
     "output_type": "stream",
     "text": [
      "0\n",
      "5\n"
     ]
    }
   ],
   "source": [
    "# Initialize ChromaDB client\n",
    "client = chromadb.Client()\n",
    "\n",
    "# Create or get collection\n",
    "# collection = client.create_collection(name=\"demo3_collection\")\n",
    "collection = client.get_collection('demo3_collection')\n",
    "\n",
    "\n",
    "# Add documents and their embeddings to collection\n",
    "# for i, (doc, emb) in enumerate(zip(documents, embeddings)):\n",
    "#     collection.add(\n",
    "#         documents=[doc],\n",
    "#         embeddings=[emb.tolist()],\n",
    "#         ids=[str(i)]\n",
    "#     )\n",
    "\n",
    "print(collection.count())\n",
    "\n",
    "collection.upsert(documents=documents, \n",
    "                  embeddings=embeddings, \n",
    "                  ids = [str(i) for i in range(len(documents))]\n",
    "                 )\n",
    "\n",
    "print(collection.count())"
   ]
  },
  {
   "cell_type": "code",
   "execution_count": null,
   "id": "676e5a1d-2b5d-47b9-a507-56df1fdee98c",
   "metadata": {},
   "outputs": [],
   "source": [
    "print(collection.count())"
   ]
  },
  {
   "cell_type": "code",
   "execution_count": 48,
   "id": "a09204a1-261d-4166-a8a6-aa3795d02f68",
   "metadata": {},
   "outputs": [],
   "source": [
    "\n",
    "# Example query\n",
    "query = \"Tell me about AI and technology.\"\n",
    "query = \"Pets give me peace\"\n",
    "query = \"I love playing with pets!\"\n",
    "query = \"The kittens love playing with the yarn!\"\n",
    "\n",
    "# Generate query embedding\n",
    "query_emb = model.encode([query])[0]\n",
    "# query_emb.tolist()"
   ]
  },
  {
   "cell_type": "code",
   "execution_count": null,
   "id": "134fa2a5-1cb5-4430-af98-37db2287fc7d",
   "metadata": {},
   "outputs": [],
   "source": []
  },
  {
   "cell_type": "code",
   "execution_count": 50,
   "id": "e77ed740-b25c-4963-8d30-3dfea8f3d46b",
   "metadata": {},
   "outputs": [
    {
     "name": "stdout",
     "output_type": "stream",
     "text": [
      "Query: The kittens love playing with the yarn!\n",
      "Top matches:\n",
      " - The cat sits on the mat. (Score: 1.299861192703247)\n",
      " - A dog is playing in the garden. (Score: 1.731477975845337)\n",
      " - I love reading books on science and technology. (Score: 1.7783089876174927)\n"
     ]
    }
   ],
   "source": [
    "# Perform similarity search to retrieve top 3 most similar documents\n",
    "results = collection.query(\n",
    "    query_embeddings=[query_emb.tolist()],\n",
    "    n_results=3\n",
    ")\n",
    "\n",
    "print(\"Query:\", query)\n",
    "print(\"Top matches:\")\n",
    "for doc, score in zip(results['documents'][0], results['distances'][0]):\n",
    "    print(f\" - {doc} (Score: {score})\")"
   ]
  },
  {
   "cell_type": "markdown",
   "id": "846341b0-2af0-462d-8416-ac155492b799",
   "metadata": {},
   "source": [
    "Query: The kittens love playing with the yarn!\n",
    "Top matches:\n",
    " - The cat sits on the mat. (Score: 1.299861192703247)\n",
    " - A dog is playing in the garden. (Score: 1.731477975845337)\n",
    " - I love reading books on science and technology. (Score: 1.7783089876174927)"
   ]
  },
  {
   "cell_type": "code",
   "execution_count": 153,
   "id": "174e4539-3d7e-4875-a8e7-ab28d39668a2",
   "metadata": {},
   "outputs": [
    {
     "name": "stderr",
     "output_type": "stream",
     "text": [
      "/var/folders/s8/kjxth_ks4bl65mbw_b3_hhzc0000gn/T/ipykernel_45069/1480564706.py:25: UserWarning: To copy construct from a tensor, it is recommended to use sourceTensor.clone().detach() or sourceTensor.clone().detach().requires_grad_(True), rather than torch.tensor(sourceTensor).\n",
      "  embeddings = torch.tensor(model.encode(\" \".join(tokens), output_value='token_embeddings'))\n"
     ]
    },
    {
     "data": {
      "text/plain": [
       "torch.Size([10, 384])"
      ]
     },
     "execution_count": 153,
     "metadata": {},
     "output_type": "execute_result"
    }
   ],
   "source": [
    "# Requires: torch 2.6+, numpy 2.3.3\n",
    "import torch\n",
    "import torch.nn.functional as F\n",
    "from sentence_transformers import SentenceTransformer\n",
    "\n",
    "# Initialize embedding model\n",
    "model = SentenceTransformer('all-MiniLM-L6-v2')\n",
    "\n",
    "\n",
    "\n",
    "\n",
    "# Toy vocabulary and embeddings\n",
    "main_token = 'bank'\n",
    "tokens = [\"orange\", \"is\", \"my\", \"favourite\", \"fruit\"]\n",
    "tokens = 'orange colored oranges are the best fruits !'.split()\n",
    "tokens = 'the river bank was robbed last night !'.split()\n",
    "tokens = 'my bank account is flowing like a river'.split()\n",
    "tokens = 'the river bank shifting was taken into account'.split()\n",
    "embed_dim = 4  # Small, illustrative dimension\n",
    "torch.manual_seed(38)\n",
    "embeddings = torch.randn(len(tokens), embed_dim)\n",
    "\n",
    "main_token_idx = tokens.index(main_token)\n",
    "\n",
    "embeddings = torch.tensor(model.encode(\" \".join(tokens), output_value='token_embeddings'))\n",
    "embeddings.shape"
   ]
  },
  {
   "cell_type": "code",
   "execution_count": 154,
   "id": "9bbdbc7b-34d6-4f14-b0ec-bc3ec5c9939a",
   "metadata": {},
   "outputs": [
    {
     "name": "stdout",
     "output_type": "stream",
     "text": [
      "Attention weights for 'orange':\n",
      "the       : 0.014\n",
      "river     : 0.056\n",
      "bank      : 0.907\n",
      "shifting  : 0.002\n",
      "was       : 0.012\n",
      "taken     : 0.002\n",
      "into      : 0.005\n",
      "account   : 0.003\n"
     ]
    }
   ],
   "source": [
    "# Simplest self-attention (\"orange\" attends to every word)\n",
    "def simple_attention(Q, K, V):\n",
    "    attn_scores = (Q @ K.T) / (K.shape[-1] ** 0.5)\n",
    "    attn_weights = F.softmax(attn_scores, dim=-1)\n",
    "    out = attn_weights @ V\n",
    "    return attn_weights, out\n",
    "\n",
    "Q = K = V = embeddings[1:-1]\n",
    "attn_weights, attn_out = simple_attention(Q, K, V)\n",
    "\n",
    "print(\"Attention weights for 'orange':\")\n",
    "for idx, token in enumerate(tokens):\n",
    "    print(f\"{token:10s}: {attn_weights[main_token_idx, idx]:.3f}\")\n",
    "\n",
    "# Shows how much \"orange\" (the first word) pays attention to each token (including itself).\n"
   ]
  },
  {
   "cell_type": "code",
   "execution_count": 97,
   "id": "d2c86b7e-d199-4d44-9577-7700fcbe76ba",
   "metadata": {},
   "outputs": [
    {
     "data": {
      "text/plain": [
       "tensor([[-1.0818,  1.2523,  1.9504, -0.3056],\n",
       "        [-0.2353, -0.2224,  0.6912, -0.1309],\n",
       "        [ 1.3151, -0.2859, -0.1444,  0.9183],\n",
       "        [-0.2143,  0.3479,  0.7128,  0.4301],\n",
       "        [-0.4298,  0.4444,  1.1141, -0.0511]])"
      ]
     },
     "execution_count": 97,
     "metadata": {},
     "output_type": "execute_result"
    }
   ],
   "source": [
    "attn_out"
   ]
  },
  {
   "cell_type": "code",
   "execution_count": 186,
   "id": "e95b3908-19bb-4892-90fc-cd5b54a1fe82",
   "metadata": {},
   "outputs": [
    {
     "data": {
      "text/plain": [
       "5"
      ]
     },
     "execution_count": 186,
     "metadata": {},
     "output_type": "execute_result"
    }
   ],
   "source": [
    "from random import choice, random\n",
    "from time import sleep\n",
    "\n",
    "\n",
    "def get_random_key():\n",
    "    '''Returns randomized key, with randomized jitter delay added\n",
    "    This is to distribute load across keys and avoid throttling \n",
    "    of the same key at the same time for multiple concurrent calls'''\n",
    "    keys = [1,2,3,4,5]\n",
    "    sleep(random())\n",
    "    return choice(keys)\n",
    "\n",
    "get_random_key()"
   ]
  },
  {
   "cell_type": "code",
   "execution_count": 1,
   "id": "a7379a20-d279-48e4-9f7d-4614d34f1500",
   "metadata": {},
   "outputs": [],
   "source": [
    "import json"
   ]
  },
  {
   "cell_type": "code",
   "execution_count": 2,
   "id": "a0f3c224",
   "metadata": {},
   "outputs": [
    {
     "ename": "JSONDecodeError",
     "evalue": "Invalid control character at: line 112 column 46 (char 4524)",
     "output_type": "error",
     "traceback": [
      "\u001b[0;31m---------------------------------------------------------------------------\u001b[0m",
      "\u001b[0;31mJSONDecodeError\u001b[0m                           Traceback (most recent call last)",
      "Cell \u001b[0;32mIn[2], line 1\u001b[0m\n\u001b[0;32m----> 1\u001b[0m json\u001b[38;5;241m.\u001b[39mload(\u001b[38;5;28mopen\u001b[39m(\u001b[38;5;124m'\u001b[39m\u001b[38;5;124mEcosystem.ipynb\u001b[39m\u001b[38;5;124m'\u001b[39m))\n",
      "File \u001b[0;32m/opt/anaconda3/lib/python3.13/json/__init__.py:293\u001b[0m, in \u001b[0;36mload\u001b[0;34m(fp, cls, object_hook, parse_float, parse_int, parse_constant, object_pairs_hook, **kw)\u001b[0m\n\u001b[1;32m    274\u001b[0m \u001b[38;5;28;01mdef\u001b[39;00m\u001b[38;5;250m \u001b[39m\u001b[38;5;21mload\u001b[39m(fp, \u001b[38;5;241m*\u001b[39m, \u001b[38;5;28mcls\u001b[39m\u001b[38;5;241m=\u001b[39m\u001b[38;5;28;01mNone\u001b[39;00m, object_hook\u001b[38;5;241m=\u001b[39m\u001b[38;5;28;01mNone\u001b[39;00m, parse_float\u001b[38;5;241m=\u001b[39m\u001b[38;5;28;01mNone\u001b[39;00m,\n\u001b[1;32m    275\u001b[0m         parse_int\u001b[38;5;241m=\u001b[39m\u001b[38;5;28;01mNone\u001b[39;00m, parse_constant\u001b[38;5;241m=\u001b[39m\u001b[38;5;28;01mNone\u001b[39;00m, object_pairs_hook\u001b[38;5;241m=\u001b[39m\u001b[38;5;28;01mNone\u001b[39;00m, \u001b[38;5;241m*\u001b[39m\u001b[38;5;241m*\u001b[39mkw):\n\u001b[1;32m    276\u001b[0m \u001b[38;5;250m    \u001b[39m\u001b[38;5;124;03m\"\"\"Deserialize ``fp`` (a ``.read()``-supporting file-like object containing\u001b[39;00m\n\u001b[1;32m    277\u001b[0m \u001b[38;5;124;03m    a JSON document) to a Python object.\u001b[39;00m\n\u001b[1;32m    278\u001b[0m \n\u001b[0;32m   (...)\u001b[0m\n\u001b[1;32m    291\u001b[0m \u001b[38;5;124;03m    kwarg; otherwise ``JSONDecoder`` is used.\u001b[39;00m\n\u001b[1;32m    292\u001b[0m \u001b[38;5;124;03m    \"\"\"\u001b[39;00m\n\u001b[0;32m--> 293\u001b[0m     \u001b[38;5;28;01mreturn\u001b[39;00m loads(fp\u001b[38;5;241m.\u001b[39mread(),\n\u001b[1;32m    294\u001b[0m         \u001b[38;5;28mcls\u001b[39m\u001b[38;5;241m=\u001b[39m\u001b[38;5;28mcls\u001b[39m, object_hook\u001b[38;5;241m=\u001b[39mobject_hook,\n\u001b[1;32m    295\u001b[0m         parse_float\u001b[38;5;241m=\u001b[39mparse_float, parse_int\u001b[38;5;241m=\u001b[39mparse_int,\n\u001b[1;32m    296\u001b[0m         parse_constant\u001b[38;5;241m=\u001b[39mparse_constant, object_pairs_hook\u001b[38;5;241m=\u001b[39mobject_pairs_hook, \u001b[38;5;241m*\u001b[39m\u001b[38;5;241m*\u001b[39mkw)\n",
      "File \u001b[0;32m/opt/anaconda3/lib/python3.13/json/__init__.py:346\u001b[0m, in \u001b[0;36mloads\u001b[0;34m(s, cls, object_hook, parse_float, parse_int, parse_constant, object_pairs_hook, **kw)\u001b[0m\n\u001b[1;32m    341\u001b[0m     s \u001b[38;5;241m=\u001b[39m s\u001b[38;5;241m.\u001b[39mdecode(detect_encoding(s), \u001b[38;5;124m'\u001b[39m\u001b[38;5;124msurrogatepass\u001b[39m\u001b[38;5;124m'\u001b[39m)\n\u001b[1;32m    343\u001b[0m \u001b[38;5;28;01mif\u001b[39;00m (\u001b[38;5;28mcls\u001b[39m \u001b[38;5;129;01mis\u001b[39;00m \u001b[38;5;28;01mNone\u001b[39;00m \u001b[38;5;129;01mand\u001b[39;00m object_hook \u001b[38;5;129;01mis\u001b[39;00m \u001b[38;5;28;01mNone\u001b[39;00m \u001b[38;5;129;01mand\u001b[39;00m\n\u001b[1;32m    344\u001b[0m         parse_int \u001b[38;5;129;01mis\u001b[39;00m \u001b[38;5;28;01mNone\u001b[39;00m \u001b[38;5;129;01mand\u001b[39;00m parse_float \u001b[38;5;129;01mis\u001b[39;00m \u001b[38;5;28;01mNone\u001b[39;00m \u001b[38;5;129;01mand\u001b[39;00m\n\u001b[1;32m    345\u001b[0m         parse_constant \u001b[38;5;129;01mis\u001b[39;00m \u001b[38;5;28;01mNone\u001b[39;00m \u001b[38;5;129;01mand\u001b[39;00m object_pairs_hook \u001b[38;5;129;01mis\u001b[39;00m \u001b[38;5;28;01mNone\u001b[39;00m \u001b[38;5;129;01mand\u001b[39;00m \u001b[38;5;129;01mnot\u001b[39;00m kw):\n\u001b[0;32m--> 346\u001b[0m     \u001b[38;5;28;01mreturn\u001b[39;00m _default_decoder\u001b[38;5;241m.\u001b[39mdecode(s)\n\u001b[1;32m    347\u001b[0m \u001b[38;5;28;01mif\u001b[39;00m \u001b[38;5;28mcls\u001b[39m \u001b[38;5;129;01mis\u001b[39;00m \u001b[38;5;28;01mNone\u001b[39;00m:\n\u001b[1;32m    348\u001b[0m     \u001b[38;5;28mcls\u001b[39m \u001b[38;5;241m=\u001b[39m JSONDecoder\n",
      "File \u001b[0;32m/opt/anaconda3/lib/python3.13/json/decoder.py:345\u001b[0m, in \u001b[0;36mJSONDecoder.decode\u001b[0;34m(self, s, _w)\u001b[0m\n\u001b[1;32m    340\u001b[0m \u001b[38;5;28;01mdef\u001b[39;00m\u001b[38;5;250m \u001b[39m\u001b[38;5;21mdecode\u001b[39m(\u001b[38;5;28mself\u001b[39m, s, _w\u001b[38;5;241m=\u001b[39mWHITESPACE\u001b[38;5;241m.\u001b[39mmatch):\n\u001b[1;32m    341\u001b[0m \u001b[38;5;250m    \u001b[39m\u001b[38;5;124;03m\"\"\"Return the Python representation of ``s`` (a ``str`` instance\u001b[39;00m\n\u001b[1;32m    342\u001b[0m \u001b[38;5;124;03m    containing a JSON document).\u001b[39;00m\n\u001b[1;32m    343\u001b[0m \n\u001b[1;32m    344\u001b[0m \u001b[38;5;124;03m    \"\"\"\u001b[39;00m\n\u001b[0;32m--> 345\u001b[0m     obj, end \u001b[38;5;241m=\u001b[39m \u001b[38;5;28mself\u001b[39m\u001b[38;5;241m.\u001b[39mraw_decode(s, idx\u001b[38;5;241m=\u001b[39m_w(s, \u001b[38;5;241m0\u001b[39m)\u001b[38;5;241m.\u001b[39mend())\n\u001b[1;32m    346\u001b[0m     end \u001b[38;5;241m=\u001b[39m _w(s, end)\u001b[38;5;241m.\u001b[39mend()\n\u001b[1;32m    347\u001b[0m     \u001b[38;5;28;01mif\u001b[39;00m end \u001b[38;5;241m!=\u001b[39m \u001b[38;5;28mlen\u001b[39m(s):\n",
      "File \u001b[0;32m/opt/anaconda3/lib/python3.13/json/decoder.py:361\u001b[0m, in \u001b[0;36mJSONDecoder.raw_decode\u001b[0;34m(self, s, idx)\u001b[0m\n\u001b[1;32m    352\u001b[0m \u001b[38;5;250m\u001b[39m\u001b[38;5;124;03m\"\"\"Decode a JSON document from ``s`` (a ``str`` beginning with\u001b[39;00m\n\u001b[1;32m    353\u001b[0m \u001b[38;5;124;03ma JSON document) and return a 2-tuple of the Python\u001b[39;00m\n\u001b[1;32m    354\u001b[0m \u001b[38;5;124;03mrepresentation and the index in ``s`` where the document ended.\u001b[39;00m\n\u001b[0;32m   (...)\u001b[0m\n\u001b[1;32m    358\u001b[0m \n\u001b[1;32m    359\u001b[0m \u001b[38;5;124;03m\"\"\"\u001b[39;00m\n\u001b[1;32m    360\u001b[0m \u001b[38;5;28;01mtry\u001b[39;00m:\n\u001b[0;32m--> 361\u001b[0m     obj, end \u001b[38;5;241m=\u001b[39m \u001b[38;5;28mself\u001b[39m\u001b[38;5;241m.\u001b[39mscan_once(s, idx)\n\u001b[1;32m    362\u001b[0m \u001b[38;5;28;01mexcept\u001b[39;00m \u001b[38;5;167;01mStopIteration\u001b[39;00m \u001b[38;5;28;01mas\u001b[39;00m err:\n\u001b[1;32m    363\u001b[0m     \u001b[38;5;28;01mraise\u001b[39;00m JSONDecodeError(\u001b[38;5;124m\"\u001b[39m\u001b[38;5;124mExpecting value\u001b[39m\u001b[38;5;124m\"\u001b[39m, s, err\u001b[38;5;241m.\u001b[39mvalue) \u001b[38;5;28;01mfrom\u001b[39;00m\u001b[38;5;250m \u001b[39m\u001b[38;5;28;01mNone\u001b[39;00m\n",
      "\u001b[0;31mJSONDecodeError\u001b[0m: Invalid control character at: line 112 column 46 (char 4524)"
     ]
    }
   ],
   "source": [
    "json.load(open('Ecosystem.ipynb'))"
   ]
  },
  {
   "cell_type": "code",
   "execution_count": null,
   "id": "1d7b7c44",
   "metadata": {},
   "outputs": [],
   "source": []
  }
 ],
 "metadata": {
  "kernelspec": {
   "display_name": "Python 3 (ipykernel)",
   "language": "python",
   "name": "python3"
  },
  "language_info": {
   "codemirror_mode": {
    "name": "ipython",
    "version": 3
   },
   "file_extension": ".py",
   "mimetype": "text/x-python",
   "name": "python",
   "nbconvert_exporter": "python",
   "pygments_lexer": "ipython3",
   "version": "3.13.7"
  }
 },
 "nbformat": 4,
 "nbformat_minor": 5
}
