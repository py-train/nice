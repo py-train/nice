{
 "cells": [
  {
   "cell_type": "markdown",
   "id": "83c702b0",
   "metadata": {
    "slideshow": {
     "slide_type": "slide"
    }
   },
   "source": [
    "# Vector Databases: Focus on ChromaDB\n",
    "An introduction to vector databases with detailed exploration of ChromaDB and its integration with LangChain."
   ]
  },
  {
   "cell_type": "markdown",
   "id": "738aba3c",
   "metadata": {
    "slideshow": {
     "slide_type": "subslide"
    }
   },
   "source": [
    "## What are Vector Databases?\n",
    "- Specialized databases for storing and querying large volumes of high-dimensional vectors.\n",
    "- Enable semantic search by using similarity metrics like cosine similarity or Euclidean distance.\n",
    "- Essential for retrieval-augmented generation (RAG), recommendation engines, and AI-powered search."
   ]
  },
  {
   "cell_type": "markdown",
   "id": "7acb98a2",
   "metadata": {
    "slideshow": {
     "slide_type": "slide"
    }
   },
   "source": [
    "# ChromaDB Overview\n",
    "ChromaDB is an open-source vector database designed for speed, scalability, and ease of use.\n",
    "- Supports creation of collections (analogous to tables) to hold documents embedding vectors.\n",
    "- Supports metadata for filtering and advanced queries.\n",
    "- Real-time inserts and updates.\n",
    "- Provides rich Python SDK for programmatic access."
   ]
  },
  {
   "cell_type": "markdown",
   "id": "c3b77765",
   "metadata": {
    "slideshow": {
     "slide_type": "slide"
    }
   },
   "source": [
    "## ChromaDB Core API Concepts\n",
    "**Key classes and concepts:**\n",
    "- `Client`: Connects to and manages storage backend.\n",
    "- `Collection`: Holds embeddings and associated metadata.\n",
    "- Functions: `add()`, `query()`, `update()`, `delete()`.\n",
    "\n",
    "**Use-case:** Create collection, add embeddings, query by similarity with filters."
   ]
  },
  {
   "cell_type": "code",
   "execution_count": null,
   "id": "df3c3186",
   "metadata": {
    "slideshow": {
     "slide_type": "slide"
    }
   },
   "outputs": [],
   "source": [
    "# Connect and create/get a collection\n",
    "from chromadb import Client\n",
    "\n",
    "client = Client()\n",
    "collection = client.get_or_create_collection(name=\"my_documents\")\n",
    "print(collection.name)"
   ]
  },
  {
   "cell_type": "markdown",
   "id": "a0125caf",
   "metadata": {
    "slideshow": {
     "slide_type": "slide"
    }
   },
   "source": [
    "## Adding Embeddings to Collection\n",
    "Method: `collection.add()`\n",
    "Input parameters:\n",
    "- `embeddings`: list of vectors\n",
    "- `metadatas`: optional list for associated metadata\n",
    "- `documents`: optional list of text data\n",
    "Output:\n",
    "- Confirmation of inserted records.\n",
    "Use cases: Index documents with embeddings + metadata."
   ]
  },
  {
   "cell_type": "code",
   "execution_count": null,
   "id": "25f53c77",
   "metadata": {
    "slideshow": {
     "slide_type": "subslide"
    }
   },
   "outputs": [],
   "source": [
    "# Example: Add sample embeddings\n",
    "import numpy as np\n",
    "ids = [str(i) for i in range(3)]\n",
    "embeddings = [np.random.rand(128).tolist() for _ in range(3)]\n",
    "documents = [\"Doc 1 text\", \"Doc 2 text\", \"Doc 3 text\"]\n",
    "metadatas = [{\"source\": \"source_a\"}, {\"source\": \"source_b\"}, {\"source\": \"source_c\"}]\n",
    "\n",
    "collection.add(ids=ids, embeddings=embeddings, documents=documents, metadatas=metadatas)\n",
    "print(\"Added embeddings and documents.\")"
   ]
  },
  {
   "cell_type": "markdown",
   "id": "852b1e09",
   "metadata": {
    "slideshow": {
     "slide_type": "slide"
    }
   },
   "source": [
    "## Querying Embeddings\n",
    "Method: `collection.query()`\n",
    "Inputs:\n",
    "- `query_embeddings`: list of query vectors\n",
    "- `n_results`: number of top results to return per query\n",
    "- Optional filters on metadata\n",
    "\n",
    "Outputs:\n",
    "- List of matching documents, embeddings, metadatas, scores."
   ]
  },
  {
   "cell_type": "code",
   "execution_count": null,
   "id": "ae061b63",
   "metadata": {
    "slideshow": {
     "slide_type": "subslide"
    }
   },
   "outputs": [],
   "source": [
    "# Query: Find top 2 similar embeddings\n",
    "query_vector = np.random.rand(128).tolist()\n",
    "results = collection.query(query_embeddings=[query_vector], n_results=2)\n",
    "print(\"Query Results:\")\n",
    "print(results)"
   ]
  },
  {
   "cell_type": "markdown",
   "id": "47f628c6",
   "metadata": {
    "slideshow": {
     "slide_type": "slide"
    }
   },
   "source": [
    "# Integration with LangChain\n",
    "LangChain integrates with ChromaDB via the `langchain.vectorstores.Chroma` class.\n",
    "- Simplifies embedding storage and similarity search for LangChain chains.\n",
    "- Supports API-compatible methods like `add_texts()` and `similarity_search()`."
   ]
  },
  {
   "cell_type": "markdown",
   "id": "72967e52",
   "metadata": {
    "slideshow": {
     "slide_type": "slide"
    }
   },
   "source": [
    "## LangChain Chroma API Overview\n",
    "Key classes/methods:\n",
    "- `Chroma`: Constructor takes collection name, embedding function.\n",
    "- `add_texts(texts)`: Embeds texts and saves in Chroma collection.\n",
    "- `similarity_search(query, k)`: Returns top k relevant docs."
   ]
  },
  {
   "cell_type": "code",
   "execution_count": null,
   "id": "6c6b54ab",
   "metadata": {
    "slideshow": {
     "slide_type": "slide"
    }
   },
   "outputs": [],
   "source": [
    "# Setup LangChain Chroma integration\n",
    "from langchain.vectorstores import Chroma\n",
    "from langchain.embeddings.openai import OpenAIEmbeddings\n",
    "import os\n",
    "\n",
    "embedding_function = OpenAIEmbeddings()\n",
    "vectorstore = Chroma(collection_name=\"my_documents_lc\", embedding_function=embedding_function)\n",
    "print(\"Chroma vectorstore initialized\")"
   ]
  },
  {
   "cell_type": "markdown",
   "id": "1ef7eb6e",
   "metadata": {
    "slideshow": {
     "slide_type": "subslide"
    }
   },
   "source": [
    "## Adding Texts to LangChain Chroma Store\n",
    "`add_texts(texts: List[str])`\n",
    "- Accepts list of documents, embeds them, adds to the Chroma collection."
   ]
  },
  {
   "cell_type": "code",
   "execution_count": null,
   "id": "08a285bd",
   "metadata": {
    "slideshow": {
     "slide_type": "subslide"
    }
   },
   "outputs": [],
   "source": [
    "# Add texts example\n",
    "texts = [\"AI is transforming many fields\", \"LangChain simplifies application development\"]\n",
    "vectorstore.add_texts(texts)\n",
    "print(\"Added texts to LangChain Chroma vectorstore\")"
   ]
  },
  {
   "cell_type": "markdown",
   "id": "125626f3",
   "metadata": {
    "slideshow": {
     "slide_type": "slide"
    }
   },
   "source": [
    "## Querying LangChain Chroma Vectorstore\n",
    "`similarity_search(query: str, k: int)`\n",
    "- Returns top-k documents similar to the query string based on embedding similarity."
   ]
  },
  {
   "cell_type": "code",
   "execution_count": null,
   "id": "85f77a89",
   "metadata": {
    "slideshow": {
     "slide_type": "slide"
    }
   },
   "outputs": [],
   "source": [
    "# Similarity search example\n",
    "query = \"How is AI changing industries?\"\n",
    "results = vectorstore.similarity_search(query, k=2)\n",
    "print(\"Top matches:\")\n",
    "for r in results:\n",
    "    print(r.page_content)"
   ]
  }
 ],
 "metadata": {
  "kernelspec": {
   "display_name": "Python 3 (ipykernel)",
   "language": "python",
   "name": "python3"
  },
  "language_info": {
   "codemirror_mode": {
    "name": "ipython",
    "version": 3
   },
   "file_extension": ".py",
   "mimetype": "text/x-python",
   "name": "python",
   "nbconvert_exporter": "python",
   "pygments_lexer": "ipython3",
   "version": "3.13.7"
  },
  "rise": {}
 },
 "nbformat": 4,
 "nbformat_minor": 5
}
